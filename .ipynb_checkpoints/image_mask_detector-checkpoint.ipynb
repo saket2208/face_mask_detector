{
 "cells": [
  {
   "cell_type": "code",
   "execution_count": 39,
   "metadata": {},
   "outputs": [],
   "source": [
    "import tensorflow as tf\n",
    "import os\n",
    "import cv2\n",
    "import numpy as np\n",
    "from tensorflow.keras.applications.inception_v3 import preprocess_input\n",
    "import matplotlib.pyplot as plt\n"
   ]
  },
  {
   "cell_type": "code",
   "execution_count": 40,
   "metadata": {},
   "outputs": [],
   "source": [
    "model=tf.keras.models.load_model('classifier.h5')"
   ]
  },
  {
   "cell_type": "code",
   "execution_count": 52,
   "metadata": {},
   "outputs": [],
   "source": [
    "def mask_detector(configure_file, model_file, model, img_path, mask):\n",
    "    '''\n",
    "    In this function we are Loading our prototxt and cafe model. \n",
    "    Then we load the image, extract the dimensions, resize to 300px and create a blob using DNN.\n",
    "    Made prediction using our classifier and displayed output as text in image.\n",
    "    '''\n",
    "    \n",
    "    #laod model\n",
    "    net=cv2.dnn.readNetFromCaffe(configure_file,model_file)\n",
    "    \n",
    "    #read image\n",
    "    image=cv2.imread(img_path)\n",
    "    \n",
    "    #extracting dimensions\n",
    "    h,w=image.shape[:2]\n",
    "    \n",
    "    #preprocessing image\n",
    "    \n",
    "    blob=cv2.dnn.blobFromImage(image,scalefactor = 1.0, size = (300,300), mean = (104.0, 177.0, 123.0))\n",
    "    \n",
    "    #passing blob through the network to detect and prediction\n",
    "    net.setInput(blob)\n",
    "    detections=net.forward()\n",
    "    \n",
    "    #we’ll loop over the detections and draw boxes around the detected faces with confidence >0.5\n",
    "    for i in range(detections.shape[2]):\n",
    "     \n",
    "        confidence=detections[0,0,i,2]\n",
    "        if confidence>0.25:\n",
    "            #detection height and width w.r.t image is alwayas within 0 and 1\n",
    "            box = detections[0, 0, i, 3:7] * np.array([w, h, w, h])\n",
    "            (startX, startY, endX, endY) = box.astype(\"int\")\n",
    "\n",
    "            \n",
    "            #making sure starting and ending pixels lie inside image\n",
    "            (startX, startY) = (max(0, startX), max(0, startY))\n",
    "            (endX, endY) = (min(w - 1, endX), min(h - 1, endY))\n",
    "            \n",
    "            #extracting face\n",
    "            face = image[startY:endY, startX:endX]\n",
    "            \n",
    "            #preprocessing face for classifer model\n",
    "            face=cv2.cvtColor(face,cv2.COLOR_BGR2RGB)\n",
    "            face=cv2.resize(face,(150,150))\n",
    "            face = preprocess_input(face)\n",
    "            face = np.expand_dims(face, axis=0)\n",
    "            pred = model.predict(face) #predicting mask or no mask by passing extracted face from image\n",
    "\n",
    "            proba=1-pred #as we have class 0 for maks and 1 for no mask\n",
    "            print(proba)\n",
    "\n",
    "            label = \"Mask\" if pred < 0.4 else \"No Mask\"\n",
    "\n",
    "            color = (0, 255, 0) if label == \"Mask\" else (0, 0, 255)\n",
    "            label=label+' '+str((proba[0][0]*100).round(3))+'%'\n",
    "\n",
    "            cv2.putText(image, label, (startX, startY-10),cv2.FONT_HERSHEY_SIMPLEX, 0.7, color, 1)\n",
    "            cv2.rectangle(image, (startX, startY), (endX, endY), color, 2)\n",
    "            mask.append(image)\n",
    "    image=cv2.resize(image,(700,500))\n",
    "    saving_path = 'mask5.jpg'\n",
    "    cv2.imwrite(saving_path, image)\n",
    "    cv2.imshow(\"prediction\", image)\n",
    "\n",
    "    cv2.waitKey(0)\n",
    "            \n",
    "\n",
    "    "
   ]
  },
  {
   "cell_type": "code",
   "execution_count": 53,
   "metadata": {},
   "outputs": [],
   "source": [
    "configure_file=r'face_detector\\deploy.prototxt' #this file contain model architecture\n",
    "model_file=r'face_detector\\res10_300x300_ssd_iter_140000.caffemodel' #this file conatin model weight\n",
    "img_path=r'C:\\Users\\Saket\\Desktop\\all\\openCV\\mask6.jpg'\n",
    "mask=[]"
   ]
  },
  {
   "cell_type": "code",
   "execution_count": 54,
   "metadata": {},
   "outputs": [
    {
     "name": "stdout",
     "output_type": "stream",
     "text": [
      "[[0.01142728]]\n",
      "[[0.99999994]]\n"
     ]
    }
   ],
   "source": [
    "mask_detector(configure_file, model_file, model, img_path, mask)"
   ]
  },
  {
   "cell_type": "code",
   "execution_count": null,
   "metadata": {},
   "outputs": [],
   "source": []
  }
 ],
 "metadata": {
  "kernelspec": {
   "display_name": "Python 3",
   "language": "python",
   "name": "python3"
  },
  "language_info": {
   "codemirror_mode": {
    "name": "ipython",
    "version": 3
   },
   "file_extension": ".py",
   "mimetype": "text/x-python",
   "name": "python",
   "nbconvert_exporter": "python",
   "pygments_lexer": "ipython3",
   "version": "3.8.5"
  }
 },
 "nbformat": 4,
 "nbformat_minor": 4
}
