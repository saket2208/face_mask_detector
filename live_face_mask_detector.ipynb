{
 "cells": [
  {
   "cell_type": "code",
   "execution_count": 1,
   "metadata": {},
   "outputs": [],
   "source": [
    "import tensorflow as tf\n",
    "import os\n",
    "import cv2\n",
    "import numpy as np\n",
    "from tensorflow.keras.applications.inception_v3 import preprocess_input\n",
    "import matplotlib.pyplot as plt\n",
    "import winsound"
   ]
  },
  {
   "cell_type": "code",
   "execution_count": 2,
   "metadata": {},
   "outputs": [],
   "source": [
    "def live_mask_detector(configure_file, model_file, model):\n",
    "    '''\n",
    "    In this function we are Loading our prototxt and caffe model. \n",
    "    Then we use camera and process frames, extract the dimensions, resize to 300px and create a blob using DNN.\n",
    "    Made prediction using our classifier and displayed output as text over video output.\n",
    "    '''    \n",
    "    \n",
    "    cap = cv2.VideoCapture(0) #reading video from system camera\n",
    "    net=cv2.dnn.readNetFromCaffe(configure_file,model_file) #loading model\n",
    "    \n",
    "    fourcc = cv2.VideoWriter_fourcc(*'XVID') \n",
    "    out = cv2.VideoWriter('output.avi',fourcc, 20.0, (640,480)) #to save output\n",
    "    while(True):\n",
    "        # Capture frame-by-frame\n",
    "        ret, frame = cap.read() #ret is True if read correctly\n",
    "\n",
    "        h,w=frame.shape[:2]\n",
    "\n",
    "        #preprocessing frame\n",
    "\n",
    "        blob=cv2.dnn.blobFromImage(frame,scalefactor = 1.0, size = (300,300), mean = (104.0, 177.0, 123.0))\n",
    "\n",
    "        #passing blob through the network to detect and prediction\n",
    "        net.setInput(blob)\n",
    "        detections=net.forward()\n",
    "        \n",
    "        #using a try block to ensure if any error occurs then the camera must be released\n",
    "        try:\n",
    "\n",
    "            #we’ll loop over the detections and draw boxes around the detected faces with confidence >0.5\n",
    "            for i in range(detections.shape[2]):\n",
    "\n",
    "                confidence=detections[0,0,i,2]\n",
    "                if confidence>0.25:\n",
    "                    #detection height and width w.r.t frame is alwayas within 0 and 1\n",
    "                    box = detections[0, 0, i, 3:7] * np.array([w, h, w, h])\n",
    "                    (startX, startY, endX, endY) = box.astype(\"int\")\n",
    "\n",
    "\n",
    "                    #making sure starting and ending pixels lie inside image\n",
    "                    (startX, startY) = (max(0, startX), max(0, startY))\n",
    "                    (endX, endY) = (min(w - 1, endX), min(h - 1, endY))\n",
    "\n",
    "                    #extracting face\n",
    "                    face = frame[startY:endY, startX:endX]\n",
    "\n",
    "                    #preprocessing face for classifer model\n",
    "                    face=cv2.cvtColor(face,cv2.COLOR_BGR2RGB) #switching channels\n",
    "                    face=cv2.resize(face,(150,150))\n",
    "                    face = preprocess_input(face)\n",
    "                    face = np.expand_dims(face, axis=0)\n",
    "                    pred = model.predict(face) #predicting mask or no mask by passing extracted face from image\n",
    "\n",
    "                    proba=1-pred #as we have class 0 for maska and 1 for no mask\n",
    "\n",
    "                    label = \"Mask\" if pred < 0.4 else \"No Mask\"\n",
    "\n",
    "                    # plays a beep sound when there is no mask\n",
    "#                     if label == \"No Mask\":\n",
    "#                         frequency = 2500  # Set Frequency To 2500 Hertz\n",
    "#                         duration = 1000  # Set Duration To 1000 ms == 1 second\n",
    "#                         winsound.Beep(frequency, duration) #this will work in windows only.\n",
    "\n",
    "                    color = (0, 255, 0) if label == \"Mask\" else (0, 0, 255)\n",
    "                    label=label+' '+str((proba[0][0]*100).round(3))+'%'\n",
    "\n",
    "                    cv2.putText(frame, label, (startX, startY-10),cv2.FONT_HERSHEY_SIMPLEX, 0.7, color, 1)\n",
    "                    cv2.rectangle(frame, (startX, startY), (endX, endY), color, 2)\n",
    "                \n",
    "        except :\n",
    "            break\n",
    "\n",
    "\n",
    "        # Display the resulting frame\n",
    "        out.write(frame)\n",
    "        cv2.imshow(\"prediction\", frame)\n",
    "\n",
    "\n",
    "\n",
    "        if cv2.waitKey(1) & 0xFF == ord('q'): #pressing q will terminate the process\n",
    "            break\n",
    "\n",
    "    # When everything done, release the capture\n",
    "    cap.release()\n",
    "    out.release()\n",
    "    cv2.destroyAllWindows()"
   ]
  },
  {
   "cell_type": "code",
   "execution_count": 3,
   "metadata": {},
   "outputs": [],
   "source": [
    "configure_file=r'face_detector\\deploy.prototxt' #this file contain model architecture\n",
    "model_file=r'face_detector\\res10_300x300_ssd_iter_140000.caffemodel' #this file conatin model weight"
   ]
  },
  {
   "cell_type": "code",
   "execution_count": 4,
   "metadata": {},
   "outputs": [],
   "source": [
    "model=tf.keras.models.load_model('classifier.h5')"
   ]
  },
  {
   "cell_type": "code",
   "execution_count": 7,
   "metadata": {},
   "outputs": [],
   "source": [
    "live_mask_detector(configure_file, model_file, model)"
   ]
  },
  {
   "cell_type": "code",
   "execution_count": null,
   "metadata": {},
   "outputs": [],
   "source": []
  }
 ],
 "metadata": {
  "kernelspec": {
   "display_name": "Python 3",
   "language": "python",
   "name": "python3"
  },
  "language_info": {
   "codemirror_mode": {
    "name": "ipython",
    "version": 3
   },
   "file_extension": ".py",
   "mimetype": "text/x-python",
   "name": "python",
   "nbconvert_exporter": "python",
   "pygments_lexer": "ipython3",
   "version": "3.8.5"
  }
 },
 "nbformat": 4,
 "nbformat_minor": 4
}
