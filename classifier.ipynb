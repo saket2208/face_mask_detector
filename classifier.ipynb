{
 "cells": [
  {
   "cell_type": "code",
   "execution_count": 39,
   "metadata": {},
   "outputs": [],
   "source": [
    "import tensorflow as tf\n",
    "import keras\n",
    "import os\n",
    "import cv2\n",
    "import numpy as np\n",
    "from tensorflow.keras.applications.inception_v3 import InceptionV3\n",
    "from tensorflow.keras import Model\n",
    "from tensorflow.keras import layers\n",
    "from tensorflow.keras.applications.inception_v3 import preprocess_input\n",
    "from tensorflow.keras.preprocessing.image import ImageDataGenerator\n",
    "from tensorflow.keras.callbacks import Callback\n",
    "from sklearn.metrics import classification_report, confusion_matrix, plot_confusion_matrix\n",
    "import matplotlib.pyplot as plt\n",
    "import itertools"
   ]
  },
  {
   "cell_type": "code",
   "execution_count": 16,
   "metadata": {},
   "outputs": [],
   "source": [
    "def get_last_layer_output():\n",
    "    '''\n",
    "    this function will return output of InceptionV3 model of desired layer to which\n",
    "    more layers will be added as per requirements.\n",
    "    '''\n",
    "    \n",
    "    pre_trained_model = InceptionV3(\n",
    "    #do not include top layer \"to be added later\"\n",
    "        include_top = False,\n",
    "        input_shape=(150,150,3)\n",
    "    )\n",
    "    \n",
    "    #use pre-trained weights by making most of the layers un-trainable\n",
    "    for layer in pre_trained_model.layers:\n",
    "        layer.trainable = False\n",
    "    #used mixed7 layer as model architecture is pretty big and we dont need that much. \n",
    "    last_layer = pre_trained_model.get_layer('mixed7')\n",
    "    print('last layer output shape: ', last_layer.output_shape)\n",
    "    last_output = last_layer.output\n",
    "    return last_output,pre_trained_model\n",
    "    \n",
    "    \n",
    "    "
   ]
  },
  {
   "cell_type": "code",
   "execution_count": 17,
   "metadata": {
    "scrolled": true
   },
   "outputs": [],
   "source": [
    "def get_model():\n",
    "    '''\n",
    "    This function will return model by adding new layers to\n",
    "    pre-trained InceptionV3 model using fuctional API model present in Keras.\n",
    "    '''\n",
    "    \n",
    "    last_output, pre_trained_model = get_last_layer_output()\n",
    "    #Flattened last layer output to feed into dense layer.\n",
    "    x = tf.keras.layers.Flatten()(last_output)\n",
    "       \n",
    "    x = tf.keras.layers.Dense(units=1024,activation='relu')(x)\n",
    "    \n",
    "    #dropout to add regularisation\n",
    "    x = tf.keras.layers.Dropout(0.3)(x)\n",
    "    \n",
    "    \n",
    "    x = tf.keras.layers.Dense(units=1,activation='sigmoid')(x)\n",
    "\n",
    "    model = Model(pre_trained_model.input,x)\n",
    "    \n",
    "    #used binary crossentropy as it is a binary classifier\n",
    "    model.compile(loss='binary_crossentropy',metrics=['acc'],optimizer=tf.keras.optimizers.Adam(learning_rate=0.001))\n",
    "    \n",
    "    return model"
   ]
  },
  {
   "cell_type": "code",
   "execution_count": 18,
   "metadata": {},
   "outputs": [
    {
     "name": "stdout",
     "output_type": "stream",
     "text": [
      "last layer output shape:  (None, 7, 7, 768)\n"
     ]
    }
   ],
   "source": [
    "model=get_model()"
   ]
  },
  {
   "cell_type": "code",
   "execution_count": 19,
   "metadata": {},
   "outputs": [],
   "source": [
    "train_path=r'dataset\\train'\n",
    "validation_path=r'dataset\\validation'"
   ]
  },
  {
   "cell_type": "markdown",
   "metadata": {},
   "source": []
  },
  {
   "cell_type": "code",
   "execution_count": 20,
   "metadata": {},
   "outputs": [],
   "source": [
    "def train_test_generator(train_path,test_path):\n",
    "    '''\n",
    "    This fucntion will return training and testing \n",
    "    Image data generator objects provided by tensorflow which is used to\n",
    "    do run time data augmentation.\n",
    "    Also we do not need to label our data while using ImageDataGenerator \n",
    "    this is automatically done by TensorFlow based on folders.\n",
    "    '''\n",
    "    \n",
    "    \n",
    "    train_datagen = ImageDataGenerator(rescale=1.0/255,\n",
    "                                   rotation_range = 40, #range of random rotation on data in degree\n",
    "                                   width_shift_range = 0.2, #shift in width of image\n",
    "                                   height_shift_range = 0.2, #shift in height of image\n",
    "                                   shear_range = 0.2, #shearing is fixing image at one end and then streaching it an angle known as shear angle\n",
    "                                   zoom_range = 0.2, \n",
    "                                   horizontal_flip = True #fipping images horizontally\n",
    "                    )\n",
    "\n",
    "    # Note that the validation data should not be augmented!\n",
    "    test_datagen = ImageDataGenerator(rescale=1./255 )\n",
    "\n",
    "    # Flow training images in batches of 100 using train_datagen generator\n",
    "    train_generator = train_datagen.flow_from_directory(\n",
    "        train_path, #path of directory\n",
    "        batch_size = 100, \n",
    "        target_size = (150,150), #size of image required\n",
    "        class_mode = 'binary' #no of classes\n",
    "\n",
    "    )  \n",
    "    # Flow training images in batches of 20 using validation_datagen generator\n",
    "    validation_generator =  test_datagen.flow_from_directory( \n",
    "        validation_path,\n",
    "        batch_size = 20,\n",
    "        target_size = (150,150),\n",
    "        class_mode = 'binary',\n",
    "        shuffle=False\n",
    "    )\n",
    "     \n",
    "    return train_generator, validation_generator"
   ]
  },
  {
   "cell_type": "code",
   "execution_count": 21,
   "metadata": {},
   "outputs": [
    {
     "name": "stdout",
     "output_type": "stream",
     "text": [
      "Found 3432 images belonging to 2 classes.\n",
      "Found 414 images belonging to 2 classes.\n"
     ]
    }
   ],
   "source": [
    "train_generator, validation_generator = train_test_generator(train_path,validation_path)"
   ]
  },
  {
   "cell_type": "code",
   "execution_count": 46,
   "metadata": {},
   "outputs": [
    {
     "name": "stdout",
     "output_type": "stream",
     "text": [
      "{'with_mask': 0, 'without_mask': 1}\n",
      "{'with_mask': 0, 'without_mask': 1}\n"
     ]
    }
   ],
   "source": [
    "#just to check consistency\n",
    "print(train_generator.class_indices)\n",
    "print(validation_generator.class_indices)"
   ]
  },
  {
   "cell_type": "code",
   "execution_count": 22,
   "metadata": {},
   "outputs": [],
   "source": [
    "class CallBack(tf.keras.callbacks.Callback):\n",
    "    '''\n",
    "    A callback is an object that can perform actions at various stages of training\n",
    "    (e.g. at the start or end of an epoch, before or after a single batch, etc).\n",
    "    Callbacks are useful to get a view on internal states and statistics of the model during training.\n",
    "    '''\n",
    "    \n",
    "    #used constructor to take manual input of thresholds.\n",
    "    def __init__(self, threshold1, threshold2):\n",
    "        self.train_threshold = threshold1\n",
    "        self.val_threshold = threshold2\n",
    "        \n",
    "    #what actions to perform after every epoch\n",
    "        \n",
    "    def on_epoch_end(self,epoch,logs={}):\n",
    "        if logs.get('val_acc') > self.val_threshold and logs.get('acc') > self.train_threshold:\n",
    "            print('Reached defined threshold')\n",
    "            self.model.stop_training=True\n",
    "    "
   ]
  },
  {
   "cell_type": "code",
   "execution_count": 23,
   "metadata": {
    "scrolled": true
   },
   "outputs": [
    {
     "name": "stdout",
     "output_type": "stream",
     "text": [
      "Epoch 1/30\n"
     ]
    },
    {
     "name": "stderr",
     "output_type": "stream",
     "text": [
      "C:\\ProgramData\\Anaconda3\\lib\\site-packages\\PIL\\Image.py:951: UserWarning: Palette images with Transparency expressed in bytes should be converted to RGBA images\n",
      "  warnings.warn(\n"
     ]
    },
    {
     "name": "stdout",
     "output_type": "stream",
     "text": [
      "35/35 - 97s - loss: 0.4938 - acc: 0.9228 - val_loss: 0.1021 - val_acc: 0.9903\n",
      "Epoch 2/30\n",
      "35/35 - 103s - loss: 0.0736 - acc: 0.9770 - val_loss: 0.0754 - val_acc: 0.9928\n",
      "Epoch 3/30\n",
      "35/35 - 106s - loss: 0.0486 - acc: 0.9828 - val_loss: 0.0678 - val_acc: 0.9903\n",
      "Epoch 4/30\n",
      "35/35 - 96s - loss: 0.0411 - acc: 0.9860 - val_loss: 0.0587 - val_acc: 0.9928\n",
      "Epoch 5/30\n",
      "35/35 - 98s - loss: 0.0334 - acc: 0.9895 - val_loss: 0.0452 - val_acc: 0.9952\n",
      "Epoch 6/30\n",
      "35/35 - 102s - loss: 0.0386 - acc: 0.9878 - val_loss: 0.0450 - val_acc: 0.9952\n",
      "Epoch 7/30\n",
      "35/35 - 112s - loss: 0.0355 - acc: 0.9886 - val_loss: 0.0417 - val_acc: 0.9952\n",
      "Epoch 8/30\n",
      "35/35 - 97s - loss: 0.0270 - acc: 0.9895 - val_loss: 0.0435 - val_acc: 0.9928\n",
      "Epoch 9/30\n",
      "35/35 - 99s - loss: 0.0336 - acc: 0.9889 - val_loss: 0.0454 - val_acc: 0.9928\n",
      "Epoch 10/30\n",
      "35/35 - 99s - loss: 0.0339 - acc: 0.9866 - val_loss: 0.0491 - val_acc: 0.9928\n",
      "Epoch 11/30\n",
      "Reached defined threshold\n",
      "35/35 - 96s - loss: 0.0272 - acc: 0.9921 - val_loss: 0.0471 - val_acc: 0.9928\n"
     ]
    }
   ],
   "source": [
    "history = model.fit(\n",
    "    train_generator,\n",
    "    steps_per_epoch=35,\n",
    "    epochs=30,\n",
    "    verbose=2,\n",
    "    callbacks=[CallBack(0.99, 0.992)],\n",
    "    validation_data=validation_generator,\n",
    "    validation_steps=21\n",
    ")"
   ]
  },
  {
   "cell_type": "code",
   "execution_count": null,
   "metadata": {},
   "outputs": [],
   "source": [
    "#model = tf.keras.models.load_model('classifier')"
   ]
  },
  {
   "cell_type": "markdown",
   "metadata": {},
   "source": [
    "<h3>Plotting acc vs epochs and loss vs epochs to evaluate model </h3>"
   ]
  },
  {
   "cell_type": "code",
   "execution_count": 30,
   "metadata": {},
   "outputs": [
    {
     "data": {
      "image/png": "[encoded data removed]",
      "text/plain": [
       "<Figure size 432x288 with 2 Axes>"
      ]
     },
     "metadata": {
      "needs_background": "light"
     },
     "output_type": "display_data"
    },
    {
     "data": {
      "text/plain": [
       "<Figure size 1440x864 with 0 Axes>"
      ]
     },
     "metadata": {},
     "output_type": "display_data"
    }
   ],
   "source": [
    "\n",
    "\n",
    "%matplotlib inline\n",
    "\n",
    "acc = history.history['acc']\n",
    "val_acc = history.history['val_acc']\n",
    "loss = history.history['loss']\n",
    "val_loss = history.history['val_loss']\n",
    "\n",
    "epochs = range(len(acc))\n",
    "plt.subplot(1,2,1)\n",
    "plt.plot(epochs, loss, 'r', label='Training loss')\n",
    "plt.plot(epochs, val_loss, 'b', label='Validation loss')\n",
    "plt.title('Training and validation loss')\n",
    "plt.legend(loc=0)\n",
    "\n",
    "plt.subplot(1,2,2)\n",
    "\n",
    "plt.plot(epochs, acc, 'r', label='Training accuracy')\n",
    "plt.plot(epochs, val_acc, 'b', label='Validation accuracy')\n",
    "plt.title('Training and validation accuracy')\n",
    "plt.legend(loc=0)\n",
    "\n",
    "\n",
    "plt.figure(figsize = (20,12))\n",
    "\n",
    "plt.show()"
   ]
  },
  {
   "cell_type": "code",
   "execution_count": 40,
   "metadata": {},
   "outputs": [],
   "source": [
    "def plot_confusion_matrix(cm, classes,\n",
    "                        normalize=False,\n",
    "                        title='Confusion matrix',\n",
    "                        cmap=plt.cm.Blues):\n",
    "    \"\"\"\n",
    "    This function prints and plots the confusion matrix.\n",
    "    Normalization can be applied by setting `normalize=True`.\n",
    "    \"\"\"\n",
    "    plt.imshow(cm, interpolation='nearest', cmap=cmap)\n",
    "    plt.title(title)\n",
    "    plt.colorbar()\n",
    "    tick_marks = np.arange(len(classes))\n",
    "    plt.xticks(tick_marks, classes, rotation=45)\n",
    "    plt.yticks(tick_marks, classes)\n",
    "\n",
    "    if normalize:\n",
    "        cm = cm.astype('float') / cm.sum(axis=1)[:, np.newaxis]\n",
    "        print(\"Normalized confusion matrix\")\n",
    "    else:\n",
    "        print('Confusion matrix, without normalization')\n",
    "\n",
    "    print(cm)\n",
    "\n",
    "    thresh = cm.max() / 2.\n",
    "    for i, j in itertools.product(range(cm.shape[0]), range(cm.shape[1])):\n",
    "        plt.text(j, i, cm[i, j],\n",
    "            horizontalalignment=\"center\",\n",
    "            color=\"white\" if cm[i, j] > thresh else \"black\")\n",
    "\n",
    "    plt.tight_layout()\n",
    "    plt.ylabel('True label')\n",
    "    plt.xlabel('Predicted label')"
   ]
  },
  {
   "cell_type": "code",
   "execution_count": 47,
   "metadata": {},
   "outputs": [],
   "source": [
    "prediction=model.predict(validation_generator)\n",
    "prediction=list(map(lambda x : 0 if x < 0.5 else 1, prediction))\n",
    "cm=confusion_matrix(validation_generator.classes, prediction)\n",
    "cm_plot_labels = ['with_mask','without_mask']"
   ]
  },
  {
   "cell_type": "code",
   "execution_count": 42,
   "metadata": {},
   "outputs": [
    {
     "name": "stdout",
     "output_type": "stream",
     "text": [
      "Confusion matrix, without normalization\n",
      "[[203   1]\n",
      " [  2 208]]\n"
     ]
    },
    {
     "data": {
      "image/png": "[encoded data removed]",
      "text/plain": [
       "<Figure size 432x288 with 2 Axes>"
      ]
     },
     "metadata": {
      "needs_background": "light"
     },
     "output_type": "display_data"
    }
   ],
   "source": [
    "plot_confusion_matrix(cm=cm, classes=cm_plot_labels, title='Confusion Matrix') #can be used to calculate values metrices like precision recall"
   ]
  },
  {
   "cell_type": "markdown",
   "metadata": {},
   "source": [
    "# Saving model to save time"
   ]
  },
  {
   "cell_type": "code",
   "execution_count": 48,
   "metadata": {},
   "outputs": [],
   "source": [
    "tf.keras.models.save_model(model,r'classifier.h5',save_format='h5')"
   ]
  },
  {
   "cell_type": "code",
   "execution_count": null,
   "metadata": {},
   "outputs": [],
   "source": []
  }
 ],
 "metadata": {
  "kernelspec": {
   "display_name": "Python 3",
   "language": "python",
   "name": "python3"
  },
  "language_info": {
   "codemirror_mode": {
    "name": "ipython",
    "version": 3
   },
   "file_extension": ".py",
   "mimetype": "text/x-python",
   "name": "python",
   "nbconvert_exporter": "python",
   "pygments_lexer": "ipython3",
   "version": "3.8.5"
  }
 },
 "nbformat": 4,
 "nbformat_minor": 2
}
